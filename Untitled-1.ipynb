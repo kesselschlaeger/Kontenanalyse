{
 "cells": [
  {
   "cell_type": "code",
   "execution_count": 3,
   "metadata": {},
   "outputs": [
    {
     "name": "stdout",
     "output_type": "stream",
     "text": [
      "4\n"
     ]
    },
    {
     "ename": "NameError",
     "evalue": "name 'text' is not defined",
     "output_type": "error",
     "traceback": [
      "\u001b[1;31m---------------------------------------------------------------------------\u001b[0m",
      "\u001b[1;31mNameError\u001b[0m                                 Traceback (most recent call last)",
      "Cell \u001b[1;32mIn[3], line 16\u001b[0m\n\u001b[0;32m     14\u001b[0m         page \u001b[38;5;241m=\u001b[39m reader\u001b[38;5;241m.\u001b[39mpages[page_number]\n\u001b[0;32m     15\u001b[0m         \u001b[38;5;66;03m# Add the extracted text to the dataframe\u001b[39;00m\n\u001b[1;32m---> 16\u001b[0m         df[\u001b[38;5;124m'\u001b[39m\u001b[38;5;124mExtracted_Text\u001b[39m\u001b[38;5;124m'\u001b[39m] \u001b[38;5;241m=\u001b[39m \u001b[43mtext\u001b[49m\n\u001b[0;32m     18\u001b[0m         \u001b[38;5;66;03m# Do something with the extracted text\u001b[39;00m\n\u001b[0;32m     19\u001b[0m         \u001b[38;5;66;03m#print(f\"Page {page_number + 1}: {text}\")\u001b[39;00m\n\u001b[0;32m     20\u001b[0m df\u001b[38;5;241m.\u001b[39mdisplay()\n",
      "\u001b[1;31mNameError\u001b[0m: name 'text' is not defined"
     ]
    }
   ],
   "source": [
    "df = pd.read_excel(\"SuchwortKategorieMapping.xlsx\")"
   ]
  },
  {
   "cell_type": "code",
   "execution_count": 22,
   "metadata": {},
   "outputs": [
    {
     "ename": "AttributeError",
     "evalue": "module 'tabula' has no attribute 'read_pdf'",
     "output_type": "error",
     "traceback": [
      "\u001b[1;31m---------------------------------------------------------------------------\u001b[0m",
      "\u001b[1;31mAttributeError\u001b[0m                            Traceback (most recent call last)",
      "Cell \u001b[1;32mIn[22], line 6\u001b[0m\n\u001b[0;32m      3\u001b[0m \u001b[38;5;28;01mimport\u001b[39;00m \u001b[38;5;21;01mtabula\u001b[39;00m\n\u001b[0;32m      5\u001b[0m \u001b[38;5;66;03m# Read PDF into list of DataFrame\u001b[39;00m\n\u001b[1;32m----> 6\u001b[0m dataframe \u001b[38;5;241m=\u001b[39m \u001b[43mtabula\u001b[49m\u001b[38;5;241;43m.\u001b[39;49m\u001b[43mread_pdf\u001b[49m(\u001b[38;5;124m\"\u001b[39m\u001b[38;5;124mc:\u001b[39m\u001b[38;5;130;01m\\\\\u001b[39;00m\u001b[38;5;124m!\u001b[39m\u001b[38;5;130;01m\\\\\u001b[39;00m\u001b[38;5;124mprivat\u001b[39m\u001b[38;5;130;01m\\\\\u001b[39;00m\u001b[38;5;124mBuchungen\u001b[39m\u001b[38;5;130;01m\\\\\u001b[39;00m\u001b[38;5;124mKontoauszugTradeRepublikAndre.pdf\u001b[39m\u001b[38;5;124m\"\u001b[39m, pages\u001b[38;5;241m=\u001b[39m\u001b[38;5;124m'\u001b[39m\u001b[38;5;124mall\u001b[39m\u001b[38;5;124m'\u001b[39m)\n",
      "\u001b[1;31mAttributeError\u001b[0m: module 'tabula' has no attribute 'read_pdf'"
     ]
    }
   ],
   "source": [
    "\n",
    "# Open the PDF file\n",
    "#--with open('c:\\\\!\\\\privat\\\\Buchungen\\\\KontoauszugTradeRepublikAndre.pdf', 'rb') as file:\n",
    "import tabula\n",
    "\n",
    "# Read PDF into list of DataFrame\n",
    "dataframe = tabula.read_pdf(\"c:\\\\!\\\\privat\\\\Buchungen\\\\KontoauszugTradeRepublikAndre.pdf\", pages='all')"
   ]
  },
  {
   "cell_type": "code",
   "execution_count": 24,
   "metadata": {},
   "outputs": [],
   "source": [
    "import re\n",
    "import PyPDF2\n",
    "import pandas as pd\n",
    "\n",
    "# Define a regular expression to match tables\n",
    "table_regex = r'(?s)\\b(?:\\w+\\s+){2,}\\w+\\b(?:\\s*[,;]\\s*\\b(?:\\w+\\s+){2,}\\w+\\b)*'\n",
    "\n",
    "# Open the PDF file in read-binary mode\n",
    "with open('c:\\\\!\\\\privat\\\\Buchungen\\\\KontoauszugTradeRepublikAndre.pdf', 'rb') as f:\n",
    "    # Create a PDF reader object\n",
    "    pdf_reader = PyPDF2.PdfReader(f)\n",
    "    \n",
    "    # Get the number of pages in the PDF file\n",
    "    num_pages = len(pdf_reader.pages)\n",
    "    \n",
    "    # Loop through each page in the PDF file\n",
    "    for page_num in range(num_pages):\n",
    "        # Get the current page object\n",
    "        page = pdf_reader.pages[page_num]\n",
    "        \n",
    "        # Extract the text from the current page\n",
    "        page_text = page.extract_text()\n",
    "        \n",
    "        # Find all tables in page_text\n",
    "        tables = re.findall(table_regex, page_text)\n",
    "        \n",
    "        # Loop through each table and create a pandas DataFrame\n",
    "        for table in tables:\n",
    "            # Split the table into rows\n",
    "            rows = table.strip().split('\\n')\n",
    "            \n",
    "            # Split the rows into cells\n",
    "            cells = [row.split('|') for row in rows]\n",
    "            \n",
    "            # Remove leading and trailing whitespace from cells\n",
    "            cells = [[cell.strip() for cell in row] for row in cells]\n",
    "            \n",
    "            # Remove empty rows and columns\n",
    "            cells = [[cell for cell in row if cell] for row in cells if row]\n",
    "            \n",
    "            # Create a pandas DataFrame from the cells\n",
    "            df = pd.DataFrame(cells[1:], columns=cells[0])\n",
    "            \n",
    "            # TODO: Clean and manipulate the df as needed"
   ]
  },
  {
   "cell_type": "code",
   "execution_count": 26,
   "metadata": {},
   "outputs": [
    {
     "ename": "AttributeError",
     "evalue": "'DataFrame' object has no attribute 'display'",
     "output_type": "error",
     "traceback": [
      "\u001b[1;31m---------------------------------------------------------------------------\u001b[0m",
      "\u001b[1;31mAttributeError\u001b[0m                            Traceback (most recent call last)",
      "\u001b[1;32m~\\AppData\\Local\\Temp\\ipykernel_1340\\4064293169.py\u001b[0m in \u001b[0;36m?\u001b[1;34m()\u001b[0m\n\u001b[1;32m----> 1\u001b[1;33m \u001b[0mdf\u001b[0m\u001b[1;33m.\u001b[0m\u001b[0mdisplay\u001b[0m\u001b[1;33m(\u001b[0m\u001b[1;33m)\u001b[0m\u001b[1;33m\u001b[0m\u001b[1;33m\u001b[0m\u001b[0m\n\u001b[0m",
      "\u001b[1;32m~\\AppData\\Local\\Packages\\PythonSoftwareFoundation.Python.3.11_qbz5n2kfra8p0\\LocalCache\\local-packages\\Python311\\site-packages\\pandas\\core\\generic.py\u001b[0m in \u001b[0;36m?\u001b[1;34m(self, name)\u001b[0m\n\u001b[0;32m   6295\u001b[0m             \u001b[1;32mand\u001b[0m \u001b[0mname\u001b[0m \u001b[1;32mnot\u001b[0m \u001b[1;32min\u001b[0m \u001b[0mself\u001b[0m\u001b[1;33m.\u001b[0m\u001b[0m_accessors\u001b[0m\u001b[1;33m\u001b[0m\u001b[1;33m\u001b[0m\u001b[0m\n\u001b[0;32m   6296\u001b[0m             \u001b[1;32mand\u001b[0m \u001b[0mself\u001b[0m\u001b[1;33m.\u001b[0m\u001b[0m_info_axis\u001b[0m\u001b[1;33m.\u001b[0m\u001b[0m_can_hold_identifiers_and_holds_name\u001b[0m\u001b[1;33m(\u001b[0m\u001b[0mname\u001b[0m\u001b[1;33m)\u001b[0m\u001b[1;33m\u001b[0m\u001b[1;33m\u001b[0m\u001b[0m\n\u001b[0;32m   6297\u001b[0m         ):\n\u001b[0;32m   6298\u001b[0m             \u001b[1;32mreturn\u001b[0m \u001b[0mself\u001b[0m\u001b[1;33m[\u001b[0m\u001b[0mname\u001b[0m\u001b[1;33m]\u001b[0m\u001b[1;33m\u001b[0m\u001b[1;33m\u001b[0m\u001b[0m\n\u001b[1;32m-> 6299\u001b[1;33m         \u001b[1;32mreturn\u001b[0m \u001b[0mobject\u001b[0m\u001b[1;33m.\u001b[0m\u001b[0m__getattribute__\u001b[0m\u001b[1;33m(\u001b[0m\u001b[0mself\u001b[0m\u001b[1;33m,\u001b[0m \u001b[0mname\u001b[0m\u001b[1;33m)\u001b[0m\u001b[1;33m\u001b[0m\u001b[1;33m\u001b[0m\u001b[0m\n\u001b[0m",
      "\u001b[1;31mAttributeError\u001b[0m: 'DataFrame' object has no attribute 'display'"
     ]
    }
   ],
   "source": [
    "df.display()"
   ]
  }
 ],
 "metadata": {
  "kernelspec": {
   "display_name": "Python 3",
   "language": "python",
   "name": "python3"
  },
  "language_info": {
   "codemirror_mode": {
    "name": "ipython",
    "version": 3
   },
   "file_extension": ".py",
   "mimetype": "text/x-python",
   "name": "python",
   "nbconvert_exporter": "python",
   "pygments_lexer": "ipython3",
   "version": "3.11.9"
  }
 },
 "nbformat": 4,
 "nbformat_minor": 2
}
